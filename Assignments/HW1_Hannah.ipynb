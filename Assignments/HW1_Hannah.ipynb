{
 "cells": [
  {
   "cell_type": "markdown",
   "metadata": {},
   "source": [
    "# FINM 36702 Portfolio Credit Risk HW1\n",
    "# Qi Wang"
   ]
  },
  {
   "cell_type": "code",
   "execution_count": 3,
   "metadata": {},
   "outputs": [],
   "source": [
    "from scipy import stats, optimize, integrate\n",
    "import numpy as np\n",
    "import pandas as pd\n",
    "from sigfig import round\n",
    "from IPython.display import display\n",
    "pd.options.display.float_format = '{:,.2g}'.format"
   ]
  },
  {
   "cell_type": "markdown",
   "metadata": {},
   "source": [
    "# Question1"
   ]
  },
  {
   "cell_type": "code",
   "execution_count": 4,
   "metadata": {},
   "outputs": [],
   "source": [
    "PD1 = 0.1\n",
    "PD2 = 0.2\n",
    "PD3 = 0.3\n",
    "PDJ12 = 0.06\n",
    "PDJ13 = 0.06\n",
    "PDJ23 = 0.06"
   ]
  },
  {
   "cell_type": "markdown",
   "metadata": {},
   "source": [
    "## Find the three values of correlation, rho12, rho13, and rho23"
   ]
  },
  {
   "cell_type": "code",
   "execution_count": 5,
   "metadata": {},
   "outputs": [],
   "source": [
    "def rho(PD1, PD2, PDJ12):\n",
    "    def pdj(rho, PD1, PD2, PDJ12):   \n",
    "        a = stats.multivariate_normal(mean=[0,0], cov=[[1,rho],[rho,1]], allow_singular=True)\n",
    "        pdj = a.cdf([stats.norm.ppf(PD1),stats.norm.ppf(PD2)])-PDJ12\n",
    "        return pdj\n",
    "    rho = optimize.fsolve(pdj, 0, args=(PD1, PD2, PDJ12))\n",
    "    return rho[0]"
   ]
  },
  {
   "cell_type": "code",
   "execution_count": 6,
   "metadata": {},
   "outputs": [
    {
     "name": "stdout",
     "output_type": "stream",
     "text": [
      "rho12 is 0.6\n"
     ]
    }
   ],
   "source": [
    "print(\"rho12 is %.2g\"%rho(PD1,PD2,PDJ12))"
   ]
  },
  {
   "cell_type": "code",
   "execution_count": 7,
   "metadata": {},
   "outputs": [
    {
     "name": "stdout",
     "output_type": "stream",
     "text": [
      "rho13 is 0.43\n"
     ]
    }
   ],
   "source": [
    "print(\"rho13 is %.2g\"%rho(PD1,PD3,PDJ13))"
   ]
  },
  {
   "cell_type": "code",
   "execution_count": 8,
   "metadata": {},
   "outputs": [
    {
     "name": "stdout",
     "output_type": "stream",
     "text": [
      "rho23 is 0\n"
     ]
    }
   ],
   "source": [
    "print(\"rho23 is %.2g\"%rho(PD2,PD3,PDJ23))"
   ]
  },
  {
   "cell_type": "markdown",
   "metadata": {},
   "source": [
    "## Find the three values of default correlation, Corr[D1, D2], Corr[D1, D3], and Corr[D2, D3]."
   ]
  },
  {
   "cell_type": "code",
   "execution_count": 9,
   "metadata": {},
   "outputs": [],
   "source": [
    "def default_corr(PD1, PD2, PDJ12):\n",
    "    corr = (PDJ12 - PD1*PD2) / np.sqrt(PD1*(1.-PD1)*PD2*(1.-PD2))\n",
    "    return corr"
   ]
  },
  {
   "cell_type": "code",
   "execution_count": 10,
   "metadata": {},
   "outputs": [
    {
     "name": "stdout",
     "output_type": "stream",
     "text": [
      "Corr[D1,D2] is 0.33\n"
     ]
    }
   ],
   "source": [
    "print(\"Corr[D1,D2] is %.2g\"%default_corr(PD1,PD2,PDJ12))"
   ]
  },
  {
   "cell_type": "code",
   "execution_count": 11,
   "metadata": {},
   "outputs": [
    {
     "name": "stdout",
     "output_type": "stream",
     "text": [
      "Corr[D1,D3] is 0.22\n"
     ]
    }
   ],
   "source": [
    "print(\"Corr[D1,D3] is %.2g\"%default_corr(PD1,PD3,PDJ13))"
   ]
  },
  {
   "cell_type": "code",
   "execution_count": 12,
   "metadata": {},
   "outputs": [
    {
     "name": "stdout",
     "output_type": "stream",
     "text": [
      "Corr[D2,D3] is 0\n"
     ]
    }
   ],
   "source": [
    "print(\"Corr[D2,D3] is %.2g\"%default_corr(PD2,PD3,PDJ23))"
   ]
  },
  {
   "cell_type": "markdown",
   "metadata": {},
   "source": [
    "# Question2"
   ]
  },
  {
   "cell_type": "markdown",
   "metadata": {},
   "source": [
    "## State the three values of PDJ"
   ]
  },
  {
   "cell_type": "code",
   "execution_count": 13,
   "metadata": {},
   "outputs": [],
   "source": [
    "PD1 = 0.1\n",
    "PD2 = 0.1\n",
    "PD3 = 0.1\n",
    "rho12 = 0.4\n",
    "rho13  = 0.5\n",
    "rho23 = 0.6"
   ]
  },
  {
   "cell_type": "code",
   "execution_count": 14,
   "metadata": {},
   "outputs": [],
   "source": [
    "def pdj(rho, PD1, PD2):\n",
    "    a = stats.multivariate_normal(mean=[0,0], cov=[[1,rho],[rho,1]], allow_singular=True)\n",
    "    pdj = a.cdf([stats.norm.ppf(PD1),stats.norm.ppf(PD2)]) \n",
    "    return pdj"
   ]
  },
  {
   "cell_type": "code",
   "execution_count": 15,
   "metadata": {},
   "outputs": [
    {
     "name": "stdout",
     "output_type": "stream",
     "text": [
      "PDJ12 is 0.027\n"
     ]
    }
   ],
   "source": [
    "print(\"PDJ12 is %.2g\"%pdj(rho12, PD1, PD2))"
   ]
  },
  {
   "cell_type": "code",
   "execution_count": 16,
   "metadata": {},
   "outputs": [
    {
     "name": "stdout",
     "output_type": "stream",
     "text": [
      "PDJ13 is 0.032\n"
     ]
    }
   ],
   "source": [
    "print(\"PDJ13 is %.2g\"%pdj(rho13, PD1, PD3))"
   ]
  },
  {
   "cell_type": "code",
   "execution_count": 17,
   "metadata": {},
   "outputs": [
    {
     "name": "stdout",
     "output_type": "stream",
     "text": [
      "PDJ23 is 0.039\n"
     ]
    }
   ],
   "source": [
    "print(\"PDJ23 is %.2g\"%pdj(rho23, PD2, PD3))"
   ]
  },
  {
   "cell_type": "markdown",
   "metadata": {},
   "source": [
    "## State the range of possible values for the probability that all three of the firms default. "
   ]
  },
  {
   "cell_type": "markdown",
   "metadata": {},
   "source": [
    "It is [0,0.1]. If all three of the firms do not default, the probability is 0. If PDJ is 0, the probability is 0.1=PD1=PD2=PD3."
   ]
  },
  {
   "cell_type": "markdown",
   "metadata": {},
   "source": [
    "## State the probability that all three default under the Gauss copula.  "
   ]
  },
  {
   "cell_type": "code",
   "execution_count": 18,
   "metadata": {},
   "outputs": [],
   "source": [
    "def pdj3(rho_matrix, PD1, PD2, PD3):\n",
    "    a = stats.multivariate_normal(mean=np.zeros(3),cov=rho_matrix, allow_singular=True)\n",
    "    pdj3 = a.cdf([stats.norm.ppf(PD1),stats.norm.ppf(PD2), stats.norm.ppf(PD3)])\n",
    "    return pdj3"
   ]
  },
  {
   "cell_type": "code",
   "execution_count": 20,
   "metadata": {},
   "outputs": [
    {
     "name": "stdout",
     "output_type": "stream",
     "text": [
      "The probability that all three default under the Gauss copula is 0.016\n"
     ]
    }
   ],
   "source": [
    "rho_matrix = np.matrix([[1, 0.4, 0.5],[0.4,1,0.6],[0.5,0.6,1]])\n",
    "print(\"The probability that all three default under the Gauss copula is %.2g\"%pdj3(rho_matrix, PD1, PD2, PD3))"
   ]
  },
  {
   "cell_type": "markdown",
   "metadata": {},
   "source": [
    "# Question 3"
   ]
  },
  {
   "cell_type": "code",
   "execution_count": 63,
   "metadata": {},
   "outputs": [],
   "source": [
    "pdj_matrix = [[0,0,0],[0,0,0],[0,0,0]]\n",
    "A_prob = [[0,0.1],[0.1,0.5],[0.5,1]]\n",
    "B_prob = [[0,0.2],[0.2,0.7],[0.7,1]]"
   ]
  },
  {
   "cell_type": "code",
   "execution_count": 64,
   "metadata": {},
   "outputs": [],
   "source": [
    "def c_pdj_matrix(rho, lower_Z1, upper_Z1, lower_Z2, upper_Z2):\n",
    "    a = stats.multivariate_normal(mean=[0,0], cov=[[1,rho],[rho,1]], allow_singular=True)\n",
    "    def _a(x, y):\n",
    "        return a.pdf([x, y])\n",
    "    res = integrate.dblquad(_a, stats.norm.ppf(lower_Z1), stats.norm.ppf(upper_Z1),\n",
    "                           lambda x: stats.norm.ppf(lower_Z2),lambda x: stats.norm.ppf(upper_Z2))\n",
    "    return res[0]"
   ]
  },
  {
   "cell_type": "code",
   "execution_count": 66,
   "metadata": {},
   "outputs": [
    {
     "data": {
      "text/plain": [
       "[['0.01', '0.08', '0.21'], ['0.05', '0.21', '0.24'], ['0.04', '0.10', '0.06']]"
      ]
     },
     "execution_count": 66,
     "metadata": {},
     "output_type": "execute_result"
    }
   ],
   "source": [
    "for i in range(3):\n",
    "    lower_Z1 = A_prob[i][0]\n",
    "    upper_Z1 = A_prob[i][1]\n",
    "    for j in range(3):\n",
    "        lower_Z2 = B_prob[j][0]\n",
    "        upper_Z2 = B_prob[j][1]\n",
    "        pdj_matrix[2-j][i] =  \"{:.2f}\".format(c_pdj_matrix(0.4, lower_Z1, upper_Z1, lower_Z2, upper_Z2))\n",
    "pdj_matrix"
   ]
  },
  {
   "cell_type": "code",
   "execution_count": 67,
   "metadata": {},
   "outputs": [
    {
     "data": {
      "text/html": [
       "<div>\n",
       "<style scoped>\n",
       "    .dataframe tbody tr th:only-of-type {\n",
       "        vertical-align: middle;\n",
       "    }\n",
       "\n",
       "    .dataframe tbody tr th {\n",
       "        vertical-align: top;\n",
       "    }\n",
       "\n",
       "    .dataframe thead th {\n",
       "        text-align: right;\n",
       "    }\n",
       "</style>\n",
       "<table border=\"1\" class=\"dataframe\">\n",
       "  <thead>\n",
       "    <tr style=\"text-align: right;\">\n",
       "      <th></th>\n",
       "      <th>FirmA=D</th>\n",
       "      <th>FirmA=B</th>\n",
       "      <th>FirmA=A</th>\n",
       "    </tr>\n",
       "  </thead>\n",
       "  <tbody>\n",
       "    <tr>\n",
       "      <th>FirmB=A</th>\n",
       "      <td>0.01</td>\n",
       "      <td>0.08</td>\n",
       "      <td>0.21</td>\n",
       "    </tr>\n",
       "    <tr>\n",
       "      <th>FirmB=B</th>\n",
       "      <td>0.05</td>\n",
       "      <td>0.21</td>\n",
       "      <td>0.24</td>\n",
       "    </tr>\n",
       "    <tr>\n",
       "      <th>FirmB=D</th>\n",
       "      <td>0.04</td>\n",
       "      <td>0.10</td>\n",
       "      <td>0.06</td>\n",
       "    </tr>\n",
       "  </tbody>\n",
       "</table>\n",
       "</div>"
      ],
      "text/plain": [
       "        FirmA=D FirmA=B FirmA=A\n",
       "FirmB=A    0.01    0.08    0.21\n",
       "FirmB=B    0.05    0.21    0.24\n",
       "FirmB=D    0.04    0.10    0.06"
      ]
     },
     "execution_count": 67,
     "metadata": {},
     "output_type": "execute_result"
    }
   ],
   "source": [
    "pdj_matrix = pd.DataFrame(pdj_matrix, index=['FirmB=A','FirmB=B','FirmB=D'],\n",
    "                                    columns=['FirmA=D','FirmA=B','FirmA=A'])\n",
    "pdj_matrix"
   ]
  },
  {
   "cell_type": "markdown",
   "metadata": {},
   "source": [
    "# Question4"
   ]
  },
  {
   "cell_type": "code",
   "execution_count": 68,
   "metadata": {},
   "outputs": [],
   "source": [
    "PD = [0.01,0.02,0.03,0.04]\n",
    "PDJ = 0.001"
   ]
  },
  {
   "cell_type": "code",
   "execution_count": 70,
   "metadata": {},
   "outputs": [],
   "source": [
    "rho_matrix = []\n",
    "for i in range(4):\n",
    "    row = []\n",
    "    for j in range(4):\n",
    "        if i ==j: row.append(1)\n",
    "        else:\n",
    "            row.append(rho(PD[i], PD[j], PDJ))\n",
    "    rho_matrix.append(row)     "
   ]
  },
  {
   "cell_type": "code",
   "execution_count": 71,
   "metadata": {},
   "outputs": [
    {
     "data": {
      "text/html": [
       "<div>\n",
       "<style scoped>\n",
       "    .dataframe tbody tr th:only-of-type {\n",
       "        vertical-align: middle;\n",
       "    }\n",
       "\n",
       "    .dataframe tbody tr th {\n",
       "        vertical-align: top;\n",
       "    }\n",
       "\n",
       "    .dataframe thead th {\n",
       "        text-align: right;\n",
       "    }\n",
       "</style>\n",
       "<table border=\"1\" class=\"dataframe\">\n",
       "  <thead>\n",
       "    <tr style=\"text-align: right;\">\n",
       "      <th></th>\n",
       "      <th>0</th>\n",
       "      <th>1</th>\n",
       "      <th>2</th>\n",
       "      <th>3</th>\n",
       "    </tr>\n",
       "  </thead>\n",
       "  <tbody>\n",
       "    <tr>\n",
       "      <th>0</th>\n",
       "      <td>1</td>\n",
       "      <td>0.31</td>\n",
       "      <td>0.24</td>\n",
       "      <td>0.18</td>\n",
       "    </tr>\n",
       "    <tr>\n",
       "      <th>1</th>\n",
       "      <td>0.31</td>\n",
       "      <td>1</td>\n",
       "      <td>0.1</td>\n",
       "      <td>0.044</td>\n",
       "    </tr>\n",
       "    <tr>\n",
       "      <th>2</th>\n",
       "      <td>0.24</td>\n",
       "      <td>0.1</td>\n",
       "      <td>1</td>\n",
       "      <td>-0.036</td>\n",
       "    </tr>\n",
       "    <tr>\n",
       "      <th>3</th>\n",
       "      <td>0.18</td>\n",
       "      <td>0.044</td>\n",
       "      <td>-0.036</td>\n",
       "      <td>1</td>\n",
       "    </tr>\n",
       "  </tbody>\n",
       "</table>\n",
       "</div>"
      ],
      "text/plain": [
       "     0     1      2      3\n",
       "0    1  0.31   0.24   0.18\n",
       "1 0.31     1    0.1  0.044\n",
       "2 0.24   0.1      1 -0.036\n",
       "3 0.18 0.044 -0.036      1"
      ]
     },
     "execution_count": 71,
     "metadata": {},
     "output_type": "execute_result"
    }
   ],
   "source": [
    "rho_matrix = pd.DataFrame(rho_matrix)\n",
    "rho_matrix"
   ]
  },
  {
   "cell_type": "code",
   "execution_count": 76,
   "metadata": {},
   "outputs": [
    {
     "data": {
      "text/plain": [
       "True"
      ]
     },
     "execution_count": 76,
     "metadata": {},
     "output_type": "execute_result"
    }
   ],
   "source": [
    "np.all(np.linalg.eigvals(rho_matrix) > 0)"
   ]
  },
  {
   "cell_type": "markdown",
   "metadata": {},
   "source": [
    "The matrix of correlations is positive definite. Thus, it cannot be connected by a Gauss copula. "
   ]
  }
 ],
 "metadata": {
  "kernelspec": {
   "display_name": "Python 3 (ipykernel)",
   "language": "python",
   "name": "python3"
  },
  "language_info": {
   "codemirror_mode": {
    "name": "ipython",
    "version": 3
   },
   "file_extension": ".py",
   "mimetype": "text/x-python",
   "name": "python",
   "nbconvert_exporter": "python",
   "pygments_lexer": "ipython3",
   "version": "3.9.13"
  },
  "latex_envs": {
   "LaTeX_envs_menu_present": true,
   "autoclose": false,
   "autocomplete": true,
   "bibliofile": "biblio.bib",
   "cite_by": "apalike",
   "current_citInitial": 1,
   "eqLabelWithNumbers": true,
   "eqNumInitial": 1,
   "hotkeys": {
    "equation": "Ctrl-E",
    "itemize": "Ctrl-I"
   },
   "labels_anchors": false,
   "latex_user_defs": false,
   "report_style_numbering": false,
   "user_envs_cfg": false
  },
  "toc": {
   "base_numbering": 1,
   "nav_menu": {},
   "number_sections": true,
   "sideBar": true,
   "skip_h1_title": false,
   "title_cell": "Table of Contents",
   "title_sidebar": "Contents",
   "toc_cell": false,
   "toc_position": {
    "height": "calc(100% - 180px)",
    "left": "10px",
    "top": "150px",
    "width": "165px"
   },
   "toc_section_display": true,
   "toc_window_display": true
  },
  "varInspector": {
   "cols": {
    "lenName": 16,
    "lenType": 16,
    "lenVar": 40
   },
   "kernels_config": {
    "python": {
     "delete_cmd_postfix": "",
     "delete_cmd_prefix": "del ",
     "library": "var_list.py",
     "varRefreshCmd": "print(var_dic_list())"
    },
    "r": {
     "delete_cmd_postfix": ") ",
     "delete_cmd_prefix": "rm(",
     "library": "var_list.r",
     "varRefreshCmd": "cat(var_dic_list()) "
    }
   },
   "types_to_exclude": [
    "module",
    "function",
    "builtin_function_or_method",
    "instance",
    "_Feature"
   ],
   "window_display": false
  }
 },
 "nbformat": 4,
 "nbformat_minor": 4
}
